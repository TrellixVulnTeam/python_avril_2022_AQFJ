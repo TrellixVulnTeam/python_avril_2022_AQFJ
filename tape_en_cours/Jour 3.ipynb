{
 "cells": [
  {
   "cell_type": "markdown",
   "metadata": {},
   "source": [
    "# Rappel du jour 2 \n",
    "\n",
    "## Décorateurs\n",
    "\n",
    "* les décorateurs permettent de modifier le comportement d'une focntion sans modifier l'intérieur de la fonction\n",
    "* https://realpython.com/primer-on-python-decorators/\n",
    "* https://realpython.com/lessons/simple-decorators/\n",
    "\n",
    "## POO\n",
    "\n",
    "* des classes permettent de générer (instancier) des objets\n",
    "* les objets peuvent avoir des méthodes (fonctions) et des attributs (variables) \n",
    "    * on peut ainsi modifier son état interne\n",
    "* différents types de méthodes (classiques, méthodes de classe, méthodes statiques)"
   ]
  },
  {
   "cell_type": "code",
   "execution_count": 15,
   "metadata": {},
   "outputs": [
    {
     "name": "stdout",
     "output_type": "stream",
     "text": [
      "<class '__main__.Convertisseur'>\n"
     ]
    },
    {
     "data": {
      "text/plain": [
       "-273"
      ]
     },
     "execution_count": 15,
     "metadata": {},
     "output_type": "execute_result"
    }
   ],
   "source": [
    "class Convertisseur:\n",
    "    def __init__(self, temp_cel):\n",
    "        self.temp_cel = temp_cel\n",
    "    \n",
    "    @staticmethod\n",
    "    def celsius2kelvin(temp_cel):\n",
    "        return temp_cel + 273.12\n",
    "\n",
    "    #def celsius2kelvin(self, temp_cel):\n",
    "    #    return celsius2kelvin(temp_cel)\n",
    "\n",
    "    def kelvin2celsius(self, temp_kelvin):\n",
    "        return temp_kelvin - 273\n",
    "\n",
    "class Convertisseur2:\n",
    "    def my_convert(self, temp):\n",
    "        return Convertisseur.celsius2kelvin(temp)\n",
    "    \n",
    "print(Convertisseur)\n",
    "Convertisseur(15).celsius2kelvin(10)\n",
    "\n",
    "c.kelvin2celsius(0)"
   ]
  },
  {
   "cell_type": "code",
   "execution_count": 16,
   "metadata": {},
   "outputs": [
    {
     "ename": "TypeError",
     "evalue": "celsius2kelvin() missing 1 required positional argument: 'temp_cel'",
     "output_type": "error",
     "traceback": [
      "\u001b[1;31m---------------------------------------------------------------------------\u001b[0m",
      "\u001b[1;31mTypeError\u001b[0m                                 Traceback (most recent call last)",
      "\u001b[1;32m<ipython-input-16-b1e4c3d94c5e>\u001b[0m in \u001b[0;36m<module>\u001b[1;34m\u001b[0m\n\u001b[1;32m----> 1\u001b[1;33m \u001b[0mConvertisseur\u001b[0m\u001b[1;33m(\u001b[0m\u001b[1;36m15\u001b[0m\u001b[1;33m)\u001b[0m\u001b[1;33m.\u001b[0m\u001b[0mcelsius2kelvin\u001b[0m\u001b[1;33m(\u001b[0m\u001b[1;33m)\u001b[0m\u001b[1;33m\u001b[0m\u001b[1;33m\u001b[0m\u001b[0m\n\u001b[0m\u001b[0;32m      2\u001b[0m \u001b[0mConvertisseur\u001b[0m\u001b[1;33m.\u001b[0m\u001b[0mcelsius2kelvin\u001b[0m\u001b[1;33m(\u001b[0m\u001b[1;36m10\u001b[0m\u001b[1;33m)\u001b[0m\u001b[1;33m\u001b[0m\u001b[1;33m\u001b[0m\u001b[0m\n",
      "\u001b[1;31mTypeError\u001b[0m: celsius2kelvin() missing 1 required positional argument: 'temp_cel'"
     ]
    }
   ],
   "source": [
    "Convertisseur(15).celsius2kelvin()\n",
    "Convertisseur.celsius2kelvin(10)"
   ]
  },
  {
   "cell_type": "code",
   "execution_count": 30,
   "metadata": {},
   "outputs": [],
   "source": [
    "from functools import lru_cache\n",
    "\n",
    "@lru_cache(maxsize=5)\n",
    "def factorial(n):\n",
    "    print(n)\n",
    "    return n * factorial(n-1) if n else 1"
   ]
  },
  {
   "cell_type": "code",
   "execution_count": 41,
   "metadata": {},
   "outputs": [
    {
     "name": "stdout",
     "output_type": "stream",
     "text": [
      "10\n",
      "9\n",
      "8\n",
      "7\n",
      "6\n",
      "5\n",
      "4\n",
      "3\n",
      "2\n",
      "1\n",
      "0\n"
     ]
    },
    {
     "data": {
      "text/plain": [
       "3628800"
      ]
     },
     "execution_count": 41,
     "metadata": {},
     "output_type": "execute_result"
    }
   ],
   "source": [
    "factorial(10)"
   ]
  },
  {
   "cell_type": "code",
   "execution_count": 42,
   "metadata": {},
   "outputs": [
    {
     "data": {
      "text/plain": [
       "CacheInfo(hits=5, misses=112, maxsize=5, currsize=5)"
      ]
     },
     "execution_count": 42,
     "metadata": {},
     "output_type": "execute_result"
    }
   ],
   "source": [
    "factorial.cache_info()"
   ]
  },
  {
   "cell_type": "code",
   "execution_count": null,
   "metadata": {},
   "outputs": [],
   "source": []
  },
  {
   "cell_type": "code",
   "execution_count": 52,
   "metadata": {},
   "outputs": [
    {
     "name": "stdout",
     "output_type": "stream",
     "text": [
      "<__main__.Exemple object at 0x0000020F24A8C4C0> <class '__main__.Exemple'>\n",
      "12\n"
     ]
    },
    {
     "ename": "TypeError",
     "evalue": "methode() missing 1 required positional argument: 'param'",
     "output_type": "error",
     "traceback": [
      "\u001b[1;31m---------------------------------------------------------------------------\u001b[0m",
      "\u001b[1;31mTypeError\u001b[0m                                 Traceback (most recent call last)",
      "Input \u001b[1;32mIn [52]\u001b[0m, in \u001b[0;36m<cell line: 10>\u001b[1;34m()\u001b[0m\n\u001b[0;32m      8\u001b[0m e \u001b[38;5;241m=\u001b[39m Exemple(\u001b[38;5;241m10\u001b[39m)\n\u001b[0;32m      9\u001b[0m \u001b[38;5;28mprint\u001b[39m(e\u001b[38;5;241m.\u001b[39mmethode(\u001b[38;5;241m2\u001b[39m))\n\u001b[1;32m---> 10\u001b[0m \u001b[38;5;28mprint\u001b[39m(\u001b[43mExemple\u001b[49m\u001b[38;5;241;43m.\u001b[39;49m\u001b[43mmethode\u001b[49m\u001b[43m(\u001b[49m\u001b[38;5;241;43m3\u001b[39;49m\u001b[43m)\u001b[49m)\n",
      "\u001b[1;31mTypeError\u001b[0m: methode() missing 1 required positional argument: 'param'"
     ]
    }
   ],
   "source": [
    "class Exemple():\n",
    "    def __init__(self, attribut):\n",
    "        self.attribut = attribut\n",
    "    def methode(self, param):\n",
    "        print(self, type(self))\n",
    "        return self.attribut + param\n",
    "    \n",
    "e = Exemple(10)\n",
    "print(e.methode(2))\n",
    "print(Exemple.methode(3))"
   ]
  },
  {
   "cell_type": "code",
   "execution_count": 58,
   "metadata": {},
   "outputs": [
    {
     "name": "stdout",
     "output_type": "stream",
     "text": [
      "<class '__main__.Exemple2'> <class 'type'>\n"
     ]
    },
    {
     "data": {
      "text/plain": [
       "110"
      ]
     },
     "execution_count": 58,
     "metadata": {},
     "output_type": "execute_result"
    }
   ],
   "source": [
    "class Exemple2():\n",
    "    variable_de_classe = 1\n",
    "    \n",
    "    @classmethod\n",
    "    def methode_de_classe(cls, param):\n",
    "        print(cls, type(cls))\n",
    "        cls.variable_de_classe = 100\n",
    "        return cls.variable_de_classe + param\n",
    "\n",
    "e = Exemple2()\n",
    "e.methode_de_classe(10)"
   ]
  },
  {
   "cell_type": "code",
   "execution_count": 59,
   "metadata": {},
   "outputs": [
    {
     "name": "stdout",
     "output_type": "stream",
     "text": [
      "<class '__main__.Exemple2'> <class 'type'>\n"
     ]
    },
    {
     "data": {
      "text/plain": [
       "120"
      ]
     },
     "execution_count": 59,
     "metadata": {},
     "output_type": "execute_result"
    }
   ],
   "source": [
    "Exemple2.methode_de_classe(20)"
   ]
  },
  {
   "cell_type": "code",
   "execution_count": 73,
   "metadata": {},
   "outputs": [
    {
     "data": {
      "text/plain": [
       "['jambon', 'fromage', 'oeuf', 'beure demi salé']"
      ]
     },
     "execution_count": 73,
     "metadata": {},
     "output_type": "execute_result"
    }
   ],
   "source": [
    "class Galette():\n",
    "    def __init__(self, ingredients):\n",
    "        self.ingredients = ingredients\n",
    "\n",
    "    @classmethod\n",
    "    def complete(cls):\n",
    "        return cls([\"jambon\", \"fromage\", \"oeuf\", \"beure demi salé\"])\n",
    "\n",
    "    @classmethod\n",
    "    def beurre(cls):\n",
    "        return cls([\"beure demi sel\"])\n",
    "        \n",
    "complete = Galette.complete()\n",
    "complete.ingredients"
   ]
  },
  {
   "cell_type": "code",
   "execution_count": 72,
   "metadata": {},
   "outputs": [],
   "source": [
    "mediterranene = Galette([\"tomate\", \"olives\", \"feta\"])\n"
   ]
  },
  {
   "cell_type": "code",
   "execution_count": 76,
   "metadata": {},
   "outputs": [
    {
     "data": {
      "text/plain": [
       "['beure demi sel']"
      ]
     },
     "execution_count": 76,
     "metadata": {},
     "output_type": "execute_result"
    }
   ],
   "source": [
    "Galette.beurre().ingredients"
   ]
  },
  {
   "cell_type": "markdown",
   "metadata": {},
   "source": [
    "# POO héritage "
   ]
  },
  {
   "cell_type": "code",
   "execution_count": 114,
   "metadata": {},
   "outputs": [],
   "source": [
    "class Mere:\n",
    "    def __init__(self, attribut):\n",
    "        print(\"dans mere\")\n",
    "        self.attribut = attribut\n",
    "    \n",
    "    def methode_de_la_classe_mere(self):\n",
    "        print(\"dans methode de la classe mere\", self.attribut)\n",
    "        \n",
    "class Fille1(Mere):\n",
    "    def __init__(self):\n",
    "        self.attribut = \"fille1\"\n",
    "        print(\"avant super\")\n",
    "        super().__init__(self.attribut)\n",
    "        print(\"apres super\")        \n",
    "\n",
    "class Fille2(Mere):\n",
    "    pass "
   ]
  },
  {
   "cell_type": "code",
   "execution_count": 115,
   "metadata": {},
   "outputs": [
    {
     "name": "stdout",
     "output_type": "stream",
     "text": [
      "dans mere\n",
      "dans methode de la classe mere toto\n"
     ]
    }
   ],
   "source": [
    "m = Mere(\"toto\")\n",
    "m.methode_de_la_classe_mere()"
   ]
  },
  {
   "cell_type": "code",
   "execution_count": 116,
   "metadata": {},
   "outputs": [
    {
     "name": "stdout",
     "output_type": "stream",
     "text": [
      "avant super\n",
      "dans mere\n",
      "apres super\n",
      "dans methode de la classe mere fille1\n"
     ]
    }
   ],
   "source": [
    "f1 = Fille1()\n",
    "f1.methode_de_la_classe_mere()"
   ]
  },
  {
   "cell_type": "code",
   "execution_count": null,
   "metadata": {},
   "outputs": [],
   "source": []
  },
  {
   "cell_type": "code",
   "execution_count": null,
   "metadata": {},
   "outputs": [],
   "source": [
    "def check_columns(self):\n",
    "    ... \n",
    "\n",
    "\n",
    "class XSWidget(Tk):\n",
    "    def check_columns(self):\n",
    "        ... \n",
    "    \n",
    "class Tab1(XSWidget):\n",
    "    def check_columns(self):\n",
    "        res = super().check_columns()\n",
    "        self.valid_column.append(\"...\")\n",
    "    \n",
    "    def check(self):\n",
    "        self.check_columns()\n",
    "        \n",
    "    "
   ]
  },
  {
   "cell_type": "code",
   "execution_count": null,
   "metadata": {},
   "outputs": [],
   "source": [
    "from abc import ABC, abstractmethod\n",
    "\n",
    "class Data(ABC):\n",
    "    @abstractmethod\n",
    "    def open_file(self, path):\n",
    "        pass \n",
    "\n",
    "    def parse_column(self):\n",
    "        data = self.open_file()\n",
    "        ... \n",
    "    \n",
    "    @classmethod\n",
    "    def parse(cls, path)\n",
    "        self.path = path \n",
    "        if file.endswith(\"csv\"):\n",
    "            data = Csv().parse_column() \n",
    "        else:\n",
    "            data = Excel().parse_column()        \n",
    "            \n",
    "class Csv(Data):\n",
    "    def open_files(self):\n",
    "        return csv.Reader(self.path)\n",
    "    \n",
    "class Excel(Data):\n",
    "    def open_files(self):\n",
    "        return xlreader(self.path)"
   ]
  },
  {
   "cell_type": "code",
   "execution_count": 117,
   "metadata": {},
   "outputs": [
    {
     "ename": "NameError",
     "evalue": "name 'Csv' is not defined",
     "output_type": "error",
     "traceback": [
      "\u001b[1;31m---------------------------------------------------------------------------\u001b[0m",
      "\u001b[1;31mNameError\u001b[0m                                 Traceback (most recent call last)",
      "Input \u001b[1;32mIn [117]\u001b[0m, in \u001b[0;36m<cell line: 1>\u001b[1;34m()\u001b[0m\n\u001b[1;32m----> 1\u001b[0m c \u001b[38;5;241m=\u001b[39m \u001b[43mCsv\u001b[49m(\u001b[38;5;124m\"\u001b[39m\u001b[38;5;124mtoto.csv\u001b[39m\u001b[38;5;124m\"\u001b[39m)\n\u001b[0;32m      2\u001b[0m c\u001b[38;5;241m.\u001b[39mparse_column()\n",
      "\u001b[1;31mNameError\u001b[0m: name 'Csv' is not defined"
     ]
    }
   ],
   "source": [
    "c = Data.parse(\"toto.csv\")"
   ]
  },
  {
   "cell_type": "markdown",
   "metadata": {},
   "source": [
    "# Rappels du matin \n",
    "\n",
    "* POO \n",
    "    * mise en pratique \"composition\"\n",
    "    * méthodes magiques (https://docs.python.org/3/reference/datamodel.html)\n",
    "        * `__add__`\n",
    "        * `__iter__`\n",
    "        * `__str__` / `__repr__` \n",
    "    * héritage\n",
    "        * classes abstraites (on ne peut pas les instancier) => `abc.ABC` / décorateur `abstractmethod`\n",
    "        * on peut surcharger des méthodes dans des classes filles \n",
    "        * permet de factoriser du code commun dans la classe mère \n",
    "        * permet de définir un contrat avec les utilisateurs / les développeurs \n",
    "    * différents types de méthodes (statiques, classe et normales)\n",
    "* décorateurs \n",
    "    * marche sur des fonctions (programmation fonctionnelle)\n",
    "    * on peut en créer ou utiliser ceux fournis par des blibliothèques "
   ]
  },
  {
   "cell_type": "code",
   "execution_count": null,
   "metadata": {},
   "outputs": [],
   "source": [
    "def decorateur(une_fonction):\n",
    "    return une_fonction\n",
    "\n",
    "@decorateur\n",
    "def f():\n",
    "    return 1 \n",
    "<=> \n",
    "def f():\n",
    "    return 1\n",
    "f = decorateur(f)"
   ]
  }
 ],
 "metadata": {
  "kernelspec": {
   "display_name": "Python 3 (ipykernel)",
   "language": "python",
   "name": "python3"
  },
  "language_info": {
   "codemirror_mode": {
    "name": "ipython",
    "version": 3
   },
   "file_extension": ".py",
   "mimetype": "text/x-python",
   "name": "python",
   "nbconvert_exporter": "python",
   "pygments_lexer": "ipython3",
   "version": "3.9.0"
  }
 },
 "nbformat": 4,
 "nbformat_minor": 4
}
