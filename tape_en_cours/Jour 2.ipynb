{
 "cells": [
  {
   "cell_type": "markdown",
   "metadata": {},
   "source": [
    "# Fizz buzz"
   ]
  },
  {
   "cell_type": "code",
   "execution_count": 40,
   "metadata": {},
   "outputs": [
    {
     "data": {
      "text/plain": [
       "'\\nfor nombre in range(1, 101):\\n    if nombre % 3 == 0 and nombre % 5 == 0:\\n        print(\"fizzbuzz\")\\n    elif nombre % 3 == 0:\\n        print(\"fizz\")\\n    elif nombre % 5 == 0:\\n        print(\"buzz\")\\n    else:\\n        print(nombre)\\n'"
      ]
     },
     "execution_count": 40,
     "metadata": {},
     "output_type": "execute_result"
    }
   ],
   "source": [
    "\"\"\"\n",
    "for nombre in range(1, 101):\n",
    "    if nombre % 3 == 0 and nombre % 5 == 0:\n",
    "        print(\"fizzbuzz\")\n",
    "    elif nombre % 3 == 0:\n",
    "        print(\"fizz\")\n",
    "    elif nombre % 5 == 0:\n",
    "        print(\"buzz\")\n",
    "    else:\n",
    "        print(nombre)\n",
    "\"\"\""
   ]
  },
  {
   "cell_type": "code",
   "execution_count": 41,
   "metadata": {},
   "outputs": [
    {
     "data": {
      "text/plain": [
       "'\\nfor nombre in range(1, 101):\\n    res = \"\"\\n    if nombre % 3 == 0:\\n        res = \"fizz\"\\n    if nombre % 5 == 0:\\n        res += \"buzz\"\\n    if not res:\\n        res = str(nombre)\\n    print(res)\\n'"
      ]
     },
     "execution_count": 41,
     "metadata": {},
     "output_type": "execute_result"
    }
   ],
   "source": [
    "\"\"\"\n",
    "for nombre in range(1, 101):\n",
    "    res = \"\"\n",
    "    if nombre % 3 == 0:\n",
    "        res = \"fizz\"\n",
    "    if nombre % 5 == 0:\n",
    "        res += \"buzz\"\n",
    "    if not res:\n",
    "        res = str(nombre)\n",
    "    print(res)\n",
    "\"\"\""
   ]
  },
  {
   "cell_type": "markdown",
   "metadata": {},
   "source": [
    "## Tests "
   ]
  },
  {
   "cell_type": "code",
   "execution_count": 11,
   "metadata": {},
   "outputs": [],
   "source": [
    "def fizzbuzz_initial():\n",
    "    \"\"\"Cette fonction n'est pas facilement testable :\n",
    "        * elle ne prend pas de paramètres\n",
    "        * elle ne retourne rien \n",
    "    \"\"\"\n",
    "    for nombre in range(1, 101):\n",
    "        res = \"\"\n",
    "        if nombre % 3 == 0:\n",
    "            res = \"fizz\"\n",
    "        if nombre % 5 == 0:\n",
    "            res += \"buzz\"\n",
    "        if not res:\n",
    "            res = str(nombre)\n",
    "        print(res)"
   ]
  },
  {
   "cell_type": "code",
   "execution_count": 42,
   "metadata": {},
   "outputs": [],
   "source": [
    "#res = fizzbuzz_initial()"
   ]
  },
  {
   "cell_type": "code",
   "execution_count": 28,
   "metadata": {},
   "outputs": [],
   "source": [
    "def fizzbuzz_mieux_testable(nombre_max):\n",
    "    \"\"\"\n",
    "    \"\"\"\n",
    "    all_res = []\n",
    "    for nombre in range(1, nombre_max):\n",
    "        res = \"\"\n",
    "        if nombre % 3 == 0:\n",
    "            res = \"fizz\"\n",
    "        if nombre % 5 == 0:\n",
    "            res += \"buzz\"\n",
    "        if not res:\n",
    "            res = str(nombre)\n",
    "        all_res.append(res)\n",
    "    return all_res "
   ]
  },
  {
   "cell_type": "code",
   "execution_count": 43,
   "metadata": {},
   "outputs": [],
   "source": [
    "# fizzbuzz_mieux_testable(16)"
   ]
  },
  {
   "cell_type": "code",
   "execution_count": 30,
   "metadata": {},
   "outputs": [],
   "source": [
    "assert fizzbuzz_mieux_testable(16) == ['1',\n",
    " '2',\n",
    " 'fizz',\n",
    " '4',\n",
    " 'buzz',\n",
    " 'fizz',\n",
    " '7',\n",
    " '8',\n",
    " 'fizz',\n",
    " 'buzz',\n",
    " '11',\n",
    " 'fizz',\n",
    " '13',\n",
    " '14',\n",
    " 'fizzbuzz']\n",
    "assert len(fizzbuzz_mieux_testable(5)) == 4"
   ]
  },
  {
   "cell_type": "code",
   "execution_count": 36,
   "metadata": {},
   "outputs": [],
   "source": [
    "def est_divisible_par(dividende, diviseur):\n",
    "    \"\"\"Indique si le dividende est divisible par le diviseur\"\"\"\n",
    "    return dividende % diviseur == 0\n",
    "    \n",
    "def logique_fizz_buzz(nombre: int) -> str:\n",
    "    res = \"\"\n",
    "    if est_divisible_par(nombre, 3):\n",
    "        res = \"fizz\"\n",
    "    if est_divisible_par(nombre, 5):\n",
    "        res += \"buzz\"\n",
    "    if not res:\n",
    "        res = str(nombre)\n",
    "    return res\n",
    "\n",
    "\n",
    "def fizzbuzz_mieux_testable(nombre_max):\n",
    "    \"\"\"\n",
    "    \"\"\"\n",
    "    all_res = []\n",
    "    for nombre in range(1, nombre_max):\n",
    "        all_res.append(logique_fizz_buzz(nombre))\n",
    "    return all_res "
   ]
  },
  {
   "cell_type": "code",
   "execution_count": 39,
   "metadata": {},
   "outputs": [],
   "source": [
    "assert logique_fizz_buzz(1) == \"1\"\n",
    "assert logique_fizz_buzz(3) == \"fizz\"\n",
    "assert logique_fizz_buzz(5) == \"buzz\"\n",
    "assert logique_fizz_buzz(15) == \"fizzbuzz\"\n",
    "assert logique_fizz_buzz(544566698896565) == \"buzz\"\n",
    "\n",
    "assert est_divisible_par(3, 3) == True \n",
    "assert est_divisible_par(5, 2) == False "
   ]
  },
  {
   "cell_type": "markdown",
   "metadata": {},
   "source": [
    "# Pytest \n",
    "\n",
    "* `pytest` (https://docs.pytest.org/en/7.1.x/getting-started.html#get-started) permet de créer des tests facilement en utilisant uniquement `assert`. \n",
    "    * attention, les fichiers doivent être de la forme `test_*.py`\n",
    "    * attention, les noms des fonctions de tests doivent être de la forme `test_()`\n",
    "* couverture de test (permet de savoir quelles sont les parties de code qui sont testées et celles qui ne le sont pas)\n",
    "    * pour générer un rapport html de la couverture `C:\\Users\\33612\\Desktop\\python_avril_2022\\tape_en_cours>pytest --cov=fizz_buzz --cov-report html .`\n",
    "* tests par mutation : https://medium.com/analytics-vidhya/unit-testing-in-python-mutation-testing-7a70143180d8 (`pip install mutmut`)"
   ]
  },
  {
   "cell_type": "markdown",
   "metadata": {},
   "source": [
    "# Résumé de ce matin \n",
    "\n",
    "## Tests automatisés\n",
    "\n",
    "* pytest et autres outils de tests\n",
    "* la couverture des tests n'est pas une fin en soit, ce n'est pas forcément la métrique à optimiser (ne pas chercher à tout prix les 100%)\n",
    "* les fonctions pures sont \"facilement\" testable\n",
    "\n",
    "## Exceptions \n",
    "\n",
    "* on capture toujours une exception spécifique \n",
    "* on essaie de reproduire le problème pour savoir quelle exception capturer\n",
    "* on peut capturer plusieurs exceptions à la suite \n",
    "* quelques outils pour gérer les exceptions et les logs : \n",
    "    * on peut logger les exceptions facilement avec le module `logging` : https://docs.python.org/3/library/logging.html\n",
    "    * si on est en architecture distribuée on peut utiliser `sentry` pour gérer les exceptions qui peuvent apparaitre sur plusieurs machines \n",
    "* pour une exception on doit mettre `try`, suivi de (au choix) `except`, `else`, `finally`\n",
    "    * dans le `try` : le code qui peut planter, le code dans ce bloc doit etre le plus minimal possible \n",
    "    * ce qui doit être exécuter si tout va bien, peut être mis dans le `else` (ce qui différement du code exécuté à la fin du bloc d'exception)\n",
    "    * `finally` : est appelé quoi qu'il arrive, permet de nettoyer des ressources (utiliser un `context manager` si possible pour être plus explicite)\n",
    "    \n",
    "## Context managers / gestionnaires de contexte \n",
    "\n",
    "* permettent de gérer des ressources (fichiers, bases de données, ...)\n",
    "* permet de gérer un contexte (style matplotlib par exemple)\n",
    "    * utilisé sous la forme suivante : \n",
    "\n",
    "```python\n",
    "with open(\"blabla.txt\", \"r\") as f:\n",
    "    print(f.readlines())\n",
    "```\n",
    "## `__main__`\n",
    "\n",
    "* permet de réguler l'exécution d'un programme \n",
    "    * savoir si on est appelé directement par l'interpréteur \n",
    "    * permet de savoir si on est importé\n",
    "    * c'est une *variable magique* (il y a un double underscore) \n",
    "    * utilisé sous la forme suivante : \n",
    "\n",
    "```python\n",
    "if __name__ == \"__main__:\n",
    "    pass \n",
    "```\n",
    "\n",
    "## import \n",
    "\n",
    "Les différents cas d'import\n",
    "\n",
    "```python\n",
    "\n",
    "import os # on importe le module (s'utilise comme un namespace) \n",
    "os.device \n",
    "\n",
    "from os import device_encoding # on import uniquement cette variable \n",
    "device_encoding \n",
    "\n",
    "import numpy as np # on renomme le module  \n",
    "np.array \n",
    "\n",
    "# on peut renomer les variables importées\n",
    "from numpy import array as numpy_array \n",
    "```"
   ]
  },
  {
   "cell_type": "code",
   "execution_count": 1,
   "metadata": {},
   "outputs": [],
   "source": [
    "\n",
    "def entree():\n",
    "    nombre = input()\n",
    "    return nombre\n",
    "\n",
    "def sortie(valeur):\n",
    "    print(valeur)\n",
    "\n",
    "def traitement(valeur):\n",
    "    # fonction pure\n",
    "    return valeur ** 2\n",
    "    \n",
    "def main():\n",
    "    e = entree()\n",
    "    t = traitement(e)\n",
    "    sortie(t)\n"
   ]
  },
  {
   "cell_type": "code",
   "execution_count": 5,
   "metadata": {},
   "outputs": [
    {
     "name": "stdout",
     "output_type": "stream",
     "text": [
      "else 1.0\n",
      "dans finally\n"
     ]
    }
   ],
   "source": [
    "try: \n",
    "    a = 1/1\n",
    "except ZeroDivisionError:\n",
    "    b = 2\n",
    "    print('except')\n",
    "else:\n",
    "    print(\"else\", a)\n",
    "finally:\n",
    "    print(\"dans finally\")"
   ]
  },
  {
   "cell_type": "code",
   "execution_count": 6,
   "metadata": {},
   "outputs": [
    {
     "ename": "NameError",
     "evalue": "name 'plot' is not defined",
     "output_type": "error",
     "traceback": [
      "\u001b[1;31m---------------------------------------------------------------------------\u001b[0m",
      "\u001b[1;31mNameError\u001b[0m                                 Traceback (most recent call last)",
      "Input \u001b[1;32mIn [6]\u001b[0m, in \u001b[0;36m<cell line: 1>\u001b[1;34m()\u001b[0m\n\u001b[1;32m----> 1\u001b[0m \u001b[43mplot\u001b[49m(\u001b[38;5;241m1\u001b[39m, \u001b[38;5;241m2\u001b[39m, \u001b[38;5;241m3\u001b[39m)\n\u001b[0;32m      2\u001b[0m \u001b[38;5;28;01mwith\u001b[39;00m mpl\u001b[38;5;241m.\u001b[39mstyle(\u001b[38;5;124m\"\u001b[39m\u001b[38;5;124mblackandwhite\u001b[39m\u001b[38;5;124m\"\u001b[39m):\n\u001b[0;32m      3\u001b[0m     plot(\u001b[38;5;241m1\u001b[39m, \u001b[38;5;241m2\u001b[39m, \u001b[38;5;241m3\u001b[39m)\n",
      "\u001b[1;31mNameError\u001b[0m: name 'plot' is not defined"
     ]
    }
   ],
   "source": [
    "plot(1, 2, 3)\n",
    "with mpl.style(\"blackandwhite\"):\n",
    "    plot(1, 2, 3)\n",
    "plot(1, 2, 3)"
   ]
  },
  {
   "cell_type": "markdown",
   "metadata": {},
   "source": [
    "# POO"
   ]
  },
  {
   "cell_type": "code",
   "execution_count": 7,
   "metadata": {},
   "outputs": [],
   "source": [
    "ma_liste = []\n",
    "ma_liste.append(1)\n",
    "ma_liste.append(2)\n",
    "ma_liste.append(3)\n",
    "\n",
    "####\n",
    "\n",
    "ma_var_1 = 1\n",
    "ma_var_2 = 2 \n",
    "ma_var_3 = 3"
   ]
  },
  {
   "cell_type": "code",
   "execution_count": 13,
   "metadata": {},
   "outputs": [
    {
     "data": {
      "text/plain": [
       "__main__.MaClasse"
      ]
     },
     "execution_count": 13,
     "metadata": {},
     "output_type": "execute_result"
    }
   ],
   "source": [
    "class MaClasse:\n",
    "    pass\n",
    "\n",
    "mon_objet = MaClasse()\n",
    "type(mon_objet)"
   ]
  },
  {
   "cell_type": "code",
   "execution_count": 24,
   "metadata": {},
   "outputs": [
    {
     "ename": "AttributeError",
     "evalue": "'Voiture' object has no attribute 'status'",
     "output_type": "error",
     "traceback": [
      "\u001b[1;31m---------------------------------------------------------------------------\u001b[0m",
      "\u001b[1;31mAttributeError\u001b[0m                            Traceback (most recent call last)",
      "Input \u001b[1;32mIn [24]\u001b[0m, in \u001b[0;36m<cell line: 11>\u001b[1;34m()\u001b[0m\n\u001b[0;32m      8\u001b[0m         \u001b[38;5;28mprint\u001b[39m(\u001b[38;5;124m\"\u001b[39m\u001b[38;5;124mon s\u001b[39m\u001b[38;5;124m'\u001b[39m\u001b[38;5;124marrete\u001b[39m\u001b[38;5;124m\"\u001b[39m)\n\u001b[0;32m     10\u001b[0m v \u001b[38;5;241m=\u001b[39m Voiture()\n\u001b[1;32m---> 11\u001b[0m \u001b[38;5;28mprint\u001b[39m(\u001b[43mv\u001b[49m\u001b[38;5;241;43m.\u001b[39;49m\u001b[43mstatus\u001b[49m)\n\u001b[0;32m     12\u001b[0m v\u001b[38;5;241m.\u001b[39mdemarre()\n\u001b[0;32m     13\u001b[0m \u001b[38;5;28mprint\u001b[39m(v\u001b[38;5;241m.\u001b[39mstatus)\n",
      "\u001b[1;31mAttributeError\u001b[0m: 'Voiture' object has no attribute 'status'"
     ]
    }
   ],
   "source": [
    "class Voiture:\n",
    "    def demarre(self):\n",
    "        self.status = \"demarré\"\n",
    "        print(\"zé parti\") \n",
    "        \n",
    "    def arrete(self):\n",
    "        self.status = \"arreté\"\n",
    "        print(\"on s'arrete\")\n",
    "    \n",
    "    def get_status(self):\n",
    "        print(self.status)\n",
    "    \n",
    "v = Voiture()\n",
    "v.get_status()\n",
    "v.demarre()\n",
    "print(v.status)\n",
    "v.arrete()\n",
    "print(v.status)\n"
   ]
  },
  {
   "cell_type": "markdown",
   "metadata": {},
   "source": [
    "# Fstrings \n",
    "\n",
    "* https://fstring.help/ "
   ]
  },
  {
   "cell_type": "code",
   "execution_count": 2,
   "metadata": {},
   "outputs": [
    {
     "data": {
      "text/plain": [
       "'4'"
      ]
     },
     "execution_count": 2,
     "metadata": {},
     "output_type": "execute_result"
    }
   ],
   "source": [
    "f\"{2+2}\""
   ]
  },
  {
   "cell_type": "code",
   "execution_count": null,
   "metadata": {},
   "outputs": [],
   "source": []
  }
 ],
 "metadata": {
  "kernelspec": {
   "display_name": "Python 3",
   "language": "python",
   "name": "python3"
  },
  "language_info": {
   "codemirror_mode": {
    "name": "ipython",
    "version": 3
   },
   "file_extension": ".py",
   "mimetype": "text/x-python",
   "name": "python",
   "nbconvert_exporter": "python",
   "pygments_lexer": "ipython3",
   "version": "3.8.2"
  }
 },
 "nbformat": 4,
 "nbformat_minor": 5
}
