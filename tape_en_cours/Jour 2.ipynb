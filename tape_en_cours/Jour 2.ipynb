{
 "cells": [
  {
   "cell_type": "markdown",
   "id": "9bdc3035",
   "metadata": {},
   "source": [
    "# Fizz buzz"
   ]
  },
  {
   "cell_type": "code",
   "execution_count": 40,
   "id": "037fc456",
   "metadata": {},
   "outputs": [
    {
     "data": {
      "text/plain": [
       "'\\nfor nombre in range(1, 101):\\n    if nombre % 3 == 0 and nombre % 5 == 0:\\n        print(\"fizzbuzz\")\\n    elif nombre % 3 == 0:\\n        print(\"fizz\")\\n    elif nombre % 5 == 0:\\n        print(\"buzz\")\\n    else:\\n        print(nombre)\\n'"
      ]
     },
     "execution_count": 40,
     "metadata": {},
     "output_type": "execute_result"
    }
   ],
   "source": [
    "\"\"\"\n",
    "for nombre in range(1, 101):\n",
    "    if nombre % 3 == 0 and nombre % 5 == 0:\n",
    "        print(\"fizzbuzz\")\n",
    "    elif nombre % 3 == 0:\n",
    "        print(\"fizz\")\n",
    "    elif nombre % 5 == 0:\n",
    "        print(\"buzz\")\n",
    "    else:\n",
    "        print(nombre)\n",
    "\"\"\""
   ]
  },
  {
   "cell_type": "code",
   "execution_count": 41,
   "id": "b36b2c84",
   "metadata": {},
   "outputs": [
    {
     "data": {
      "text/plain": [
       "'\\nfor nombre in range(1, 101):\\n    res = \"\"\\n    if nombre % 3 == 0:\\n        res = \"fizz\"\\n    if nombre % 5 == 0:\\n        res += \"buzz\"\\n    if not res:\\n        res = str(nombre)\\n    print(res)\\n'"
      ]
     },
     "execution_count": 41,
     "metadata": {},
     "output_type": "execute_result"
    }
   ],
   "source": [
    "\"\"\"\n",
    "for nombre in range(1, 101):\n",
    "    res = \"\"\n",
    "    if nombre % 3 == 0:\n",
    "        res = \"fizz\"\n",
    "    if nombre % 5 == 0:\n",
    "        res += \"buzz\"\n",
    "    if not res:\n",
    "        res = str(nombre)\n",
    "    print(res)\n",
    "\"\"\""
   ]
  },
  {
   "cell_type": "markdown",
   "id": "ad1d9a40",
   "metadata": {},
   "source": [
    "## Tests "
   ]
  },
  {
   "cell_type": "code",
   "execution_count": 11,
   "id": "599d0402",
   "metadata": {},
   "outputs": [],
   "source": [
    "def fizzbuzz_initial():\n",
    "    \"\"\"Cette fonction n'est pas facilement testable :\n",
    "        * elle ne prend pas de paramètres\n",
    "        * elle ne retourne rien \n",
    "    \"\"\"\n",
    "    for nombre in range(1, 101):\n",
    "        res = \"\"\n",
    "        if nombre % 3 == 0:\n",
    "            res = \"fizz\"\n",
    "        if nombre % 5 == 0:\n",
    "            res += \"buzz\"\n",
    "        if not res:\n",
    "            res = str(nombre)\n",
    "        print(res)"
   ]
  },
  {
   "cell_type": "code",
   "execution_count": 42,
   "id": "5b5d6a69",
   "metadata": {},
   "outputs": [],
   "source": [
    "#res = fizzbuzz_initial()"
   ]
  },
  {
   "cell_type": "code",
   "execution_count": 28,
   "id": "9a963a00",
   "metadata": {},
   "outputs": [],
   "source": [
    "def fizzbuzz_mieux_testable(nombre_max):\n",
    "    \"\"\"\n",
    "    \"\"\"\n",
    "    all_res = []\n",
    "    for nombre in range(1, nombre_max):\n",
    "        res = \"\"\n",
    "        if nombre % 3 == 0:\n",
    "            res = \"fizz\"\n",
    "        if nombre % 5 == 0:\n",
    "            res += \"buzz\"\n",
    "        if not res:\n",
    "            res = str(nombre)\n",
    "        all_res.append(res)\n",
    "    return all_res "
   ]
  },
  {
   "cell_type": "code",
   "execution_count": 43,
   "id": "2314e4a3",
   "metadata": {},
   "outputs": [],
   "source": [
    "# fizzbuzz_mieux_testable(16)"
   ]
  },
  {
   "cell_type": "code",
   "execution_count": 30,
   "id": "e5d08e30",
   "metadata": {},
   "outputs": [],
   "source": [
    "assert fizzbuzz_mieux_testable(16) == ['1',\n",
    " '2',\n",
    " 'fizz',\n",
    " '4',\n",
    " 'buzz',\n",
    " 'fizz',\n",
    " '7',\n",
    " '8',\n",
    " 'fizz',\n",
    " 'buzz',\n",
    " '11',\n",
    " 'fizz',\n",
    " '13',\n",
    " '14',\n",
    " 'fizzbuzz']\n",
    "assert len(fizzbuzz_mieux_testable(5)) == 4"
   ]
  },
  {
   "cell_type": "code",
   "execution_count": 36,
   "id": "ae51c00c",
   "metadata": {},
   "outputs": [],
   "source": [
    "def est_divisible_par(dividende, diviseur):\n",
    "    \"\"\"Indique si le dividende est divisible par le diviseur\"\"\"\n",
    "    return dividende % diviseur == 0\n",
    "    \n",
    "def logique_fizz_buzz(nombre: int) -> str:\n",
    "    res = \"\"\n",
    "    if est_divisible_par(nombre, 3):\n",
    "        res = \"fizz\"\n",
    "    if est_divisible_par(nombre, 5):\n",
    "        res += \"buzz\"\n",
    "    if not res:\n",
    "        res = str(nombre)\n",
    "    return res\n",
    "\n",
    "\n",
    "def fizzbuzz_mieux_testable(nombre_max):\n",
    "    \"\"\"\n",
    "    \"\"\"\n",
    "    all_res = []\n",
    "    for nombre in range(1, nombre_max):\n",
    "        all_res.append(logique_fizz_buzz(nombre))\n",
    "    return all_res "
   ]
  },
  {
   "cell_type": "code",
   "execution_count": 39,
   "id": "eb969bc0",
   "metadata": {},
   "outputs": [],
   "source": [
    "assert logique_fizz_buzz(1) == \"1\"\n",
    "assert logique_fizz_buzz(3) == \"fizz\"\n",
    "assert logique_fizz_buzz(5) == \"buzz\"\n",
    "assert logique_fizz_buzz(15) == \"fizzbuzz\"\n",
    "assert logique_fizz_buzz(544566698896565) == \"buzz\"\n",
    "\n",
    "assert est_divisible_par(3, 3) == True \n",
    "assert est_divisible_par(5, 2) == False "
   ]
  },
  {
   "cell_type": "markdown",
   "id": "3be20e9e",
   "metadata": {},
   "source": [
    "# Pytest \n",
    "\n",
    "* `pytest` (https://docs.pytest.org/en/7.1.x/getting-started.html#get-started) permet de créer des tests facilement en utilisant uniquement `assert`. \n",
    "    * attention, les fichiers doivent être de la forme `test_*.py`\n",
    "    * attention, les noms des fonctions de tests doivent être de la forme `test_()`\n",
    "* couverture de test (permet de savoir quelles sont les parties de code qui sont testées et celles qui ne le sont pas)\n",
    "    * pour générer un rapport html de la couverture `C:\\Users\\33612\\Desktop\\python_avril_2022\\tape_en_cours>pytest --cov=fizz_buzz --cov-report html .`\n",
    "* tests avec mutation : https://medium.com/analytics-vidhya/unit-testing-in-python-mutation-testing-7a70143180d8 (`pip install mutmut`)"
   ]
  },
  {
   "cell_type": "code",
   "execution_count": null,
   "id": "76ad13d4",
   "metadata": {},
   "outputs": [],
   "source": []
  }
 ],
 "metadata": {
  "kernelspec": {
   "display_name": "Python 3 (ipykernel)",
   "language": "python",
   "name": "python3"
  },
  "language_info": {
   "codemirror_mode": {
    "name": "ipython",
    "version": 3
   },
   "file_extension": ".py",
   "mimetype": "text/x-python",
   "name": "python",
   "nbconvert_exporter": "python",
   "pygments_lexer": "ipython3",
   "version": "3.9.0"
  }
 },
 "nbformat": 4,
 "nbformat_minor": 5
}
