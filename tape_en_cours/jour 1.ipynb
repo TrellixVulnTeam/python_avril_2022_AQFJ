{
 "cells": [
  {
   "cell_type": "markdown",
   "id": "d1ec3434",
   "metadata": {},
   "source": [
    "<h1>Salut</h1>\n",
    "<ul>\n",
    "    <li>salut</li>\n",
    "    <li>salut 2</li>\n",
    "</ul>\n",
    "\n",
    "# Salut \n",
    "\n",
    "* salut\n",
    "* salut 2"
   ]
  },
  {
   "cell_type": "code",
   "execution_count": null,
   "id": "42a0a20e",
   "metadata": {},
   "outputs": [],
   "source": []
  },
  {
   "cell_type": "code",
   "execution_count": null,
   "id": "118fa99d",
   "metadata": {},
   "outputs": [],
   "source": []
  }
 ],
 "metadata": {
  "kernelspec": {
   "display_name": "Python 3 (ipykernel)",
   "language": "python",
   "name": "python3"
  },
  "language_info": {
   "codemirror_mode": {
    "name": "ipython",
    "version": 3
   },
   "file_extension": ".py",
   "mimetype": "text/x-python",
   "name": "python",
   "nbconvert_exporter": "python",
   "pygments_lexer": "ipython3",
   "version": "3.9.0"
  }
 },
 "nbformat": 4,
 "nbformat_minor": 5
}
