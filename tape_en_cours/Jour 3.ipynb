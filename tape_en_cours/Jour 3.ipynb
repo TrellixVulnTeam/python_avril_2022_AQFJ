{
 "cells": [
  {
   "cell_type": "markdown",
   "metadata": {},
   "source": [
    "# Rappel du jour 2 \n",
    "\n",
    "## POO\n",
    "\n",
    "* des classes permettent de générer (instancier) des objets\n",
    "* les objets peuvent avoir des méthodes (fonctions) et des attributs (variables) \n",
    "    * on peut ainsi modifier son état interne\n",
    "    "
   ]
  },
  {
   "cell_type": "code",
   "execution_count": 15,
   "metadata": {},
   "outputs": [
    {
     "name": "stdout",
     "output_type": "stream",
     "text": [
      "<class '__main__.Convertisseur'>\n"
     ]
    },
    {
     "data": {
      "text/plain": [
       "-273"
      ]
     },
     "execution_count": 15,
     "metadata": {},
     "output_type": "execute_result"
    }
   ],
   "source": [
    "\n",
    "\n",
    "class Convertisseur:\n",
    "    def __init__(self, temp_cel):\n",
    "        self.temp_cel = temp_cel\n",
    "    \n",
    "    @staticmethod\n",
    "    def celsius2kelvin(temp_cel):\n",
    "        return temp_cel + 273.12\n",
    "\n",
    "    #def celsius2kelvin(self, temp_cel):\n",
    "    #    return celsius2kelvin(temp_cel)\n",
    "\n",
    "    def kelvin2celsius(self, temp_kelvin):\n",
    "        return temp_kelvin - 273\n",
    "    \n",
    "print(Convertisseur)\n",
    "Convertisseur(15).celsius2kelvin(10)\n",
    "\n",
    "c.kelvin2celsius(0)"
   ]
  },
  {
   "cell_type": "code",
   "execution_count": 16,
   "metadata": {},
   "outputs": [
    {
     "ename": "TypeError",
     "evalue": "celsius2kelvin() missing 1 required positional argument: 'temp_cel'",
     "output_type": "error",
     "traceback": [
      "\u001b[1;31m---------------------------------------------------------------------------\u001b[0m",
      "\u001b[1;31mTypeError\u001b[0m                                 Traceback (most recent call last)",
      "\u001b[1;32m<ipython-input-16-b1e4c3d94c5e>\u001b[0m in \u001b[0;36m<module>\u001b[1;34m\u001b[0m\n\u001b[1;32m----> 1\u001b[1;33m \u001b[0mConvertisseur\u001b[0m\u001b[1;33m(\u001b[0m\u001b[1;36m15\u001b[0m\u001b[1;33m)\u001b[0m\u001b[1;33m.\u001b[0m\u001b[0mcelsius2kelvin\u001b[0m\u001b[1;33m(\u001b[0m\u001b[1;33m)\u001b[0m\u001b[1;33m\u001b[0m\u001b[1;33m\u001b[0m\u001b[0m\n\u001b[0m\u001b[0;32m      2\u001b[0m \u001b[0mConvertisseur\u001b[0m\u001b[1;33m.\u001b[0m\u001b[0mcelsius2kelvin\u001b[0m\u001b[1;33m(\u001b[0m\u001b[1;36m10\u001b[0m\u001b[1;33m)\u001b[0m\u001b[1;33m\u001b[0m\u001b[1;33m\u001b[0m\u001b[0m\n",
      "\u001b[1;31mTypeError\u001b[0m: celsius2kelvin() missing 1 required positional argument: 'temp_cel'"
     ]
    }
   ],
   "source": [
    "Convertisseur(15).celsius2kelvin()\n",
    "Convertisseur.celsius2kelvin(10)"
   ]
  },
  {
   "cell_type": "code",
   "execution_count": 3,
   "metadata": {},
   "outputs": [],
   "source": [
    "from functools import lru_cache\n",
    "\n",
    "@cache\n",
    "def factorial(n):\n",
    "    print(n)\n",
    "    return n * factorial(n-1) if n else 1\n"
   ]
  },
  {
   "cell_type": "code",
   "execution_count": 11,
   "metadata": {},
   "outputs": [
    {
     "data": {
      "text/plain": [
       "479001600"
      ]
     },
     "execution_count": 11,
     "metadata": {},
     "output_type": "execute_result"
    }
   ],
   "source": [
    "factorial(12)"
   ]
  },
  {
   "cell_type": "code",
   "execution_count": 9,
   "metadata": {},
   "outputs": [],
   "source": [
    "factorial.cache_clear()"
   ]
  },
  {
   "cell_type": "code",
   "execution_count": null,
   "metadata": {},
   "outputs": [],
   "source": []
  }
 ],
 "metadata": {
  "kernelspec": {
   "display_name": "Python 3 (ipykernel)",
   "language": "python",
   "name": "python3"
  },
  "language_info": {
   "codemirror_mode": {
    "name": "ipython",
    "version": 3
   },
   "file_extension": ".py",
   "mimetype": "text/x-python",
   "name": "python",
   "nbconvert_exporter": "python",
   "pygments_lexer": "ipython3",
   "version": "3.9.0"
  }
 },
 "nbformat": 4,
 "nbformat_minor": 4
}
