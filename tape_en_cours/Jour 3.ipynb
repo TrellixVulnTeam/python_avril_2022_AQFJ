{
 "cells": [
  {
   "cell_type": "markdown",
   "metadata": {},
   "source": [
    "# Rappel du jour 2 \n",
    "\n",
    "## POO\n",
    "\n",
    "* des classes permettent de générer (instancier) des objets\n",
    "* les objets peuvent avoir des méthodes (fonctions) et des attributs (variables) \n",
    "    * on peut ainsi modifier son état interne\n",
    "    "
   ]
  },
  {
   "cell_type": "code",
   "execution_count": 4,
   "metadata": {},
   "outputs": [
    {
     "data": {
      "text/plain": [
       "283.12"
      ]
     },
     "execution_count": 4,
     "metadata": {},
     "output_type": "execute_result"
    }
   ],
   "source": [
    "class Convertisseur:\n",
    "    def __init__(self, temp_cel):\n",
    "        self.temp_cel = temp_cel\n",
    "    \n",
    "    def celsius2kelvin(self):\n",
    "        return self.temp_cel + 273.12\n",
    "\n",
    "    def kelvin2celsius(self, temp_kelvin):\n",
    "        return temp_kelvin - 273\n",
    "    \n",
    "c = Convertisseur(15)\n",
    "c.celsius2kelvin(10)"
   ]
  },
  {
   "cell_type": "code",
   "execution_count": null,
   "metadata": {},
   "outputs": [],
   "source": []
  }
 ],
 "metadata": {
  "kernelspec": {
   "display_name": "Python 3",
   "language": "python",
   "name": "python3"
  },
  "language_info": {
   "codemirror_mode": {
    "name": "ipython",
    "version": 3
   },
   "file_extension": ".py",
   "mimetype": "text/x-python",
   "name": "python",
   "nbconvert_exporter": "python",
   "pygments_lexer": "ipython3",
   "version": "3.8.2"
  }
 },
 "nbformat": 4,
 "nbformat_minor": 4
}
