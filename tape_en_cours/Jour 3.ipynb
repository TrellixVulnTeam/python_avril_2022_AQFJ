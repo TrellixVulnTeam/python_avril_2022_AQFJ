{
 "cells": [
  {
   "cell_type": "markdown",
   "metadata": {},
   "source": [
    "# Rappel du jour 2 \n",
    "\n",
    "## Décorateurs\n",
    "\n",
    "* les décorateurs permettent de modifier le comportement d'une focntion sans modifier l'intérieur de la fonction\n",
    "* https://realpython.com/primer-on-python-decorators/\n",
    "* https://realpython.com/lessons/simple-decorators/\n",
    "\n",
    "## POO\n",
    "\n",
    "* des classes permettent de générer (instancier) des objets\n",
    "* les objets peuvent avoir des méthodes (fonctions) et des attributs (variables) \n",
    "    * on peut ainsi modifier son état interne\n",
    "    "
   ]
  },
  {
   "cell_type": "code",
   "execution_count": 15,
   "metadata": {},
   "outputs": [
    {
     "name": "stdout",
     "output_type": "stream",
     "text": [
      "<class '__main__.Convertisseur'>\n"
     ]
    },
    {
     "data": {
      "text/plain": [
       "-273"
      ]
     },
     "execution_count": 15,
     "metadata": {},
     "output_type": "execute_result"
    }
   ],
   "source": [
    "class Convertisseur:\n",
    "    def __init__(self, temp_cel):\n",
    "        self.temp_cel = temp_cel\n",
    "    \n",
    "    @staticmethod\n",
    "    def celsius2kelvin(temp_cel):\n",
    "        return temp_cel + 273.12\n",
    "\n",
    "    #def celsius2kelvin(self, temp_cel):\n",
    "    #    return celsius2kelvin(temp_cel)\n",
    "\n",
    "    def kelvin2celsius(self, temp_kelvin):\n",
    "        return temp_kelvin - 273\n",
    "\n",
    "class Convertisseur2:\n",
    "    def my_convert(self, temp):\n",
    "        return Convertisseur.celsius2kelvin(temp)\n",
    "    \n",
    "print(Convertisseur)\n",
    "Convertisseur(15).celsius2kelvin(10)\n",
    "\n",
    "c.kelvin2celsius(0)"
   ]
  },
  {
   "cell_type": "code",
   "execution_count": 16,
   "metadata": {},
   "outputs": [
    {
     "ename": "TypeError",
     "evalue": "celsius2kelvin() missing 1 required positional argument: 'temp_cel'",
     "output_type": "error",
     "traceback": [
      "\u001b[1;31m---------------------------------------------------------------------------\u001b[0m",
      "\u001b[1;31mTypeError\u001b[0m                                 Traceback (most recent call last)",
      "\u001b[1;32m<ipython-input-16-b1e4c3d94c5e>\u001b[0m in \u001b[0;36m<module>\u001b[1;34m\u001b[0m\n\u001b[1;32m----> 1\u001b[1;33m \u001b[0mConvertisseur\u001b[0m\u001b[1;33m(\u001b[0m\u001b[1;36m15\u001b[0m\u001b[1;33m)\u001b[0m\u001b[1;33m.\u001b[0m\u001b[0mcelsius2kelvin\u001b[0m\u001b[1;33m(\u001b[0m\u001b[1;33m)\u001b[0m\u001b[1;33m\u001b[0m\u001b[1;33m\u001b[0m\u001b[0m\n\u001b[0m\u001b[0;32m      2\u001b[0m \u001b[0mConvertisseur\u001b[0m\u001b[1;33m.\u001b[0m\u001b[0mcelsius2kelvin\u001b[0m\u001b[1;33m(\u001b[0m\u001b[1;36m10\u001b[0m\u001b[1;33m)\u001b[0m\u001b[1;33m\u001b[0m\u001b[1;33m\u001b[0m\u001b[0m\n",
      "\u001b[1;31mTypeError\u001b[0m: celsius2kelvin() missing 1 required positional argument: 'temp_cel'"
     ]
    }
   ],
   "source": [
    "Convertisseur(15).celsius2kelvin()\n",
    "Convertisseur.celsius2kelvin(10)"
   ]
  },
  {
   "cell_type": "code",
   "execution_count": 30,
   "metadata": {},
   "outputs": [],
   "source": [
    "from functools import lru_cache\n",
    "\n",
    "@lru_cache(maxsize=5)\n",
    "def factorial(n):\n",
    "    print(n)\n",
    "    return n * factorial(n-1) if n else 1"
   ]
  },
  {
   "cell_type": "code",
   "execution_count": 41,
   "metadata": {},
   "outputs": [
    {
     "name": "stdout",
     "output_type": "stream",
     "text": [
      "10\n",
      "9\n",
      "8\n",
      "7\n",
      "6\n",
      "5\n",
      "4\n",
      "3\n",
      "2\n",
      "1\n",
      "0\n"
     ]
    },
    {
     "data": {
      "text/plain": [
       "3628800"
      ]
     },
     "execution_count": 41,
     "metadata": {},
     "output_type": "execute_result"
    }
   ],
   "source": [
    "factorial(10)"
   ]
  },
  {
   "cell_type": "code",
   "execution_count": 42,
   "metadata": {},
   "outputs": [
    {
     "data": {
      "text/plain": [
       "CacheInfo(hits=5, misses=112, maxsize=5, currsize=5)"
      ]
     },
     "execution_count": 42,
     "metadata": {},
     "output_type": "execute_result"
    }
   ],
   "source": [
    "factorial.cache_info()"
   ]
  },
  {
   "cell_type": "code",
   "execution_count": null,
   "metadata": {},
   "outputs": [],
   "source": []
  },
  {
   "cell_type": "code",
   "execution_count": 50,
   "metadata": {},
   "outputs": [
    {
     "name": "stdout",
     "output_type": "stream",
     "text": [
      "<__main__.Exemple object at 0x0000020F254362E0> <class '__main__.Exemple'>\n",
      "12\n"
     ]
    }
   ],
   "source": [
    "class Exemple():\n",
    "    def __init__(self, attribut):\n",
    "        self.attribut = attribut\n",
    "    def methode(self, param):\n",
    "        print(self, type(self))\n",
    "        return self.attribut + param\n",
    "    \n",
    "e = Exemple(10)\n",
    "print(e.methode(2))"
   ]
  },
  {
   "cell_type": "code",
   "execution_count": 48,
   "metadata": {},
   "outputs": [],
   "source": [
    "class Exemple():\n",
    "    variable_de_classe = 1\n",
    "    \n",
    "    @classmethod\n",
    "    def methode_de_classe(cls, param):\n",
    "        print(cls, type(cls))\n",
    "        return cls.variable_de_classe + param\n",
    "\n",
    "e = Exemple()\n"
   ]
  },
  {
   "cell_type": "code",
   "execution_count": null,
   "metadata": {},
   "outputs": [],
   "source": []
  }
 ],
 "metadata": {
  "kernelspec": {
   "display_name": "Python 3 (ipykernel)",
   "language": "python",
   "name": "python3"
  },
  "language_info": {
   "codemirror_mode": {
    "name": "ipython",
    "version": 3
   },
   "file_extension": ".py",
   "mimetype": "text/x-python",
   "name": "python",
   "nbconvert_exporter": "python",
   "pygments_lexer": "ipython3",
   "version": "3.9.0"
  }
 },
 "nbformat": 4,
 "nbformat_minor": 4
}
